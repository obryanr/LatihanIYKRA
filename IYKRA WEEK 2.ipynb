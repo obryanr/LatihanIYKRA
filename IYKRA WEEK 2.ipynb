{
 "cells": [
  {
   "cell_type": "code",
   "execution_count": 9,
   "metadata": {},
   "outputs": [],
   "source": [
    "import psycopg2\n",
    "import pandas as pd"
   ]
  },
  {
   "cell_type": "code",
   "execution_count": 10,
   "metadata": {},
   "outputs": [],
   "source": [
    "con = psycopg2.connect(user = \"postgres\",\n",
    "                              password ='openthedoor1234s',\n",
    "                              host = \"127.0.0.1\",\n",
    "                              port = \"5432\",\n",
    "                              database = \"dvdrent\")\n",
    "\n",
    "cur = con.cursor()"
   ]
  },
  {
   "cell_type": "markdown",
   "metadata": {},
   "source": [
    "## NO 1"
   ]
  },
  {
   "cell_type": "code",
   "execution_count": 11,
   "metadata": {},
   "outputs": [
    {
     "name": "stdout",
     "output_type": "stream",
     "text": [
      "There are 78 films about astronaut.\n"
     ]
    }
   ],
   "source": [
    "cur.execute('''\n",
    "            SELECT COUNT(film_id) \n",
    "            FROM film \n",
    "            WHERE description LIKE '%stronaut%';\n",
    "            ''')\n",
    "myresult = cur.fetchall()\n",
    "\n",
    "for x in myresult:\n",
    "  print(f\"There are {x[0]} films about astronaut.\")"
   ]
  },
  {
   "cell_type": "markdown",
   "metadata": {},
   "source": [
    "## NO 2"
   ]
  },
  {
   "cell_type": "code",
   "execution_count": 35,
   "metadata": {},
   "outputs": [
    {
     "name": "stdout",
     "output_type": "stream",
     "text": [
      "There are 52 films that have a rating of 'R' and replacement cost between $5 and $15.\n"
     ]
    }
   ],
   "source": [
    "cur.execute('''\n",
    "            SELECT COUNT(rating) FROM film\n",
    "            WHERE rating = 'R' AND (replacement_cost BETWEEN 5 AND 15);\n",
    "            ''')\n",
    "myresult = cur.fetchall()\n",
    "\n",
    "for x in myresult:\n",
    "  print(f\"There are {x[0]} films that have a rating of 'R' and replacement cost between $5 and $15.\")"
   ]
  },
  {
   "cell_type": "markdown",
   "metadata": {},
   "source": [
    "## NO 3"
   ]
  },
  {
   "cell_type": "code",
   "execution_count": 4,
   "metadata": {},
   "outputs": [
    {
     "name": "stdout",
     "output_type": "stream",
     "text": [
      "Number of handled payment and total amount by staff members:\n"
     ]
    },
    {
     "data": {
      "text/html": [
       "<div>\n",
       "<style scoped>\n",
       "    .dataframe tbody tr th:only-of-type {\n",
       "        vertical-align: middle;\n",
       "    }\n",
       "\n",
       "    .dataframe tbody tr th {\n",
       "        vertical-align: top;\n",
       "    }\n",
       "\n",
       "    .dataframe thead th {\n",
       "        text-align: right;\n",
       "    }\n",
       "</style>\n",
       "<table border=\"1\" class=\"dataframe\">\n",
       "  <thead>\n",
       "    <tr style=\"text-align: right;\">\n",
       "      <th></th>\n",
       "      <th>staff_id</th>\n",
       "      <th>staff_name</th>\n",
       "      <th>Payment_Count</th>\n",
       "      <th>Total_Amount</th>\n",
       "    </tr>\n",
       "  </thead>\n",
       "  <tbody>\n",
       "    <tr>\n",
       "      <th>0</th>\n",
       "      <td>2</td>\n",
       "      <td>Jon Stephens</td>\n",
       "      <td>7304</td>\n",
       "      <td>31059.92</td>\n",
       "    </tr>\n",
       "    <tr>\n",
       "      <th>1</th>\n",
       "      <td>1</td>\n",
       "      <td>Mike Hillyer</td>\n",
       "      <td>7292</td>\n",
       "      <td>30252.12</td>\n",
       "    </tr>\n",
       "  </tbody>\n",
       "</table>\n",
       "</div>"
      ],
      "text/plain": [
       "   staff_id    staff_name  Payment_Count Total_Amount\n",
       "0         2  Jon Stephens           7304     31059.92\n",
       "1         1  Mike Hillyer           7292     30252.12"
      ]
     },
     "execution_count": 4,
     "metadata": {},
     "output_type": "execute_result"
    }
   ],
   "source": [
    "cur.execute('''\n",
    "            SELECT p.staff_id, staffs, COUNT(payment_id) AS Payment_Count, SUM(amount) AS Total_Amount\n",
    "            FROM (SELECT staff_id, CONCAT(first_name, ' ', last_name) AS staffs FROM staff) AS staff_name\n",
    "            INNER JOIN payment AS p\n",
    "            ON p.staff_id = staff_name.staff_id\n",
    "            GROUP BY p.staff_id, staffs\n",
    "            ORDER BY total_amount DESC;\n",
    "            ''')\n",
    "\n",
    "myresult = cur.fetchall()\n",
    "df = pd.DataFrame(myresult, columns = ['staff_id', 'staff_name', 'Payment_Count','Total_Amount'])\n",
    "print('Number of handled payment and total amount by staff members:')\n",
    "df"
   ]
  },
  {
   "cell_type": "markdown",
   "metadata": {},
   "source": [
    "## NO 4"
   ]
  },
  {
   "cell_type": "code",
   "execution_count": 29,
   "metadata": {},
   "outputs": [
    {
     "data": {
      "text/html": [
       "<div>\n",
       "<style scoped>\n",
       "    .dataframe tbody tr th:only-of-type {\n",
       "        vertical-align: middle;\n",
       "    }\n",
       "\n",
       "    .dataframe tbody tr th {\n",
       "        vertical-align: top;\n",
       "    }\n",
       "\n",
       "    .dataframe thead th {\n",
       "        text-align: right;\n",
       "    }\n",
       "</style>\n",
       "<table border=\"1\" class=\"dataframe\">\n",
       "  <thead>\n",
       "    <tr style=\"text-align: right;\">\n",
       "      <th>store_id</th>\n",
       "      <th>1.0</th>\n",
       "      <th>2.0</th>\n",
       "    </tr>\n",
       "    <tr>\n",
       "      <th>rating</th>\n",
       "      <th></th>\n",
       "      <th></th>\n",
       "    </tr>\n",
       "  </thead>\n",
       "  <tbody>\n",
       "    <tr>\n",
       "      <th>G</th>\n",
       "      <td>20.840</td>\n",
       "      <td>20.086</td>\n",
       "    </tr>\n",
       "    <tr>\n",
       "      <th>R</th>\n",
       "      <td>20.827</td>\n",
       "      <td>20.116</td>\n",
       "    </tr>\n",
       "    <tr>\n",
       "      <th>PG-13</th>\n",
       "      <td>20.474</td>\n",
       "      <td>20.901</td>\n",
       "    </tr>\n",
       "    <tr>\n",
       "      <th>NC-17</th>\n",
       "      <td>20.321</td>\n",
       "      <td>20.207</td>\n",
       "    </tr>\n",
       "    <tr>\n",
       "      <th>PG</th>\n",
       "      <td>19.348</td>\n",
       "      <td>19.094</td>\n",
       "    </tr>\n",
       "  </tbody>\n",
       "</table>\n",
       "</div>"
      ],
      "text/plain": [
       "store_id     1.0     2.0\n",
       "rating                  \n",
       "G         20.840  20.086\n",
       "R         20.827  20.116\n",
       "PG-13     20.474  20.901\n",
       "NC-17     20.321  20.207\n",
       "PG        19.348  19.094"
      ]
     },
     "execution_count": 29,
     "metadata": {},
     "output_type": "execute_result"
    }
   ],
   "source": [
    "cur = con.cursor()\n",
    "cur.execute('''\n",
    "            SELECT store_id, rating, ROUND(AVG(replacement_cost), 3) AS avg_rep_cost \n",
    "            FROM (SELECT film_id, store_id FROM inventory) AS i\n",
    "            RIGHT JOIN film AS f\n",
    "            ON f.film_id = i.film_id\n",
    "            GROUP BY store_id, rating\n",
    "            ORDER BY store_id, avg_rep_cost DESC;\n",
    "            ''')\n",
    "myresult = cur.fetchall()\n",
    "\n",
    "#Put myresult into a dataframe\n",
    "df = pd.DataFrame(myresult, columns = ['store_id', 'rating', 'avg_rep_cost'])\n",
    "\n",
    "#Transform avg_rep_cost column into numeric\n",
    "df['avg_rep_cost'] = pd.to_numeric(df['avg_rep_cost'])\n",
    "\n",
    "#Pivoting\n",
    "df_pivot = pd.pivot_table(df, values='avg_rep_cost', index='rating', columns='store_id')\n",
    "df_pivot.sort_values(1.0, ascending=False)"
   ]
  },
  {
   "cell_type": "markdown",
   "metadata": {},
   "source": [
    "## NO 5"
   ]
  },
  {
   "cell_type": "code",
   "execution_count": 30,
   "metadata": {},
   "outputs": [
    {
     "data": {
      "text/html": [
       "<div>\n",
       "<style scoped>\n",
       "    .dataframe tbody tr th:only-of-type {\n",
       "        vertical-align: middle;\n",
       "    }\n",
       "\n",
       "    .dataframe tbody tr th {\n",
       "        vertical-align: top;\n",
       "    }\n",
       "\n",
       "    .dataframe thead th {\n",
       "        text-align: right;\n",
       "    }\n",
       "</style>\n",
       "<table border=\"1\" class=\"dataframe\">\n",
       "  <thead>\n",
       "    <tr style=\"text-align: right;\">\n",
       "      <th></th>\n",
       "      <th>customer_id</th>\n",
       "      <th>cust_name</th>\n",
       "      <th>email</th>\n",
       "      <th>total_amount</th>\n",
       "    </tr>\n",
       "  </thead>\n",
       "  <tbody>\n",
       "    <tr>\n",
       "      <th>0</th>\n",
       "      <td>148</td>\n",
       "      <td>Eleanor Hunt</td>\n",
       "      <td>eleanor.hunt@sakilacustomer.org</td>\n",
       "      <td>211.55</td>\n",
       "    </tr>\n",
       "    <tr>\n",
       "      <th>1</th>\n",
       "      <td>526</td>\n",
       "      <td>Karl Seal</td>\n",
       "      <td>karl.seal@sakilacustomer.org</td>\n",
       "      <td>208.58</td>\n",
       "    </tr>\n",
       "    <tr>\n",
       "      <th>2</th>\n",
       "      <td>178</td>\n",
       "      <td>Marion Snyder</td>\n",
       "      <td>marion.snyder@sakilacustomer.org</td>\n",
       "      <td>194.61</td>\n",
       "    </tr>\n",
       "    <tr>\n",
       "      <th>3</th>\n",
       "      <td>137</td>\n",
       "      <td>Rhonda Kennedy</td>\n",
       "      <td>rhonda.kennedy@sakilacustomer.org</td>\n",
       "      <td>191.62</td>\n",
       "    </tr>\n",
       "    <tr>\n",
       "      <th>4</th>\n",
       "      <td>144</td>\n",
       "      <td>Clara Shaw</td>\n",
       "      <td>clara.shaw@sakilacustomer.org</td>\n",
       "      <td>189.60</td>\n",
       "    </tr>\n",
       "  </tbody>\n",
       "</table>\n",
       "</div>"
      ],
      "text/plain": [
       "   customer_id       cust_name                              email total_amount\n",
       "0          148    Eleanor Hunt    eleanor.hunt@sakilacustomer.org       211.55\n",
       "1          526       Karl Seal       karl.seal@sakilacustomer.org       208.58\n",
       "2          178   Marion Snyder   marion.snyder@sakilacustomer.org       194.61\n",
       "3          137  Rhonda Kennedy  rhonda.kennedy@sakilacustomer.org       191.62\n",
       "4          144      Clara Shaw      clara.shaw@sakilacustomer.org       189.60"
      ]
     },
     "execution_count": 30,
     "metadata": {},
     "output_type": "execute_result"
    }
   ],
   "source": [
    "cur.execute('''\n",
    "            WITH total_payment\n",
    "            AS\n",
    "            (\n",
    "                SELECT customer_id, SUM(amount) AS total_amount\n",
    "                FROM payment\n",
    "                GROUP BY customer_id\n",
    "                ORDER BY total_amount DESC\n",
    "            )\n",
    "            SELECT T.customer_id, CONCAT(first_name, ' ', last_name) AS cust_name, email, total_amount\n",
    "            FROM total_payment AS T\n",
    "            INNER JOIN customer AS c\n",
    "            ON T.customer_id = c.customer_id\n",
    "            LIMIT 5;\n",
    "            ''')\n",
    "myresult = cur.fetchall()\n",
    "\n",
    "#Put myresult into a dataframe\n",
    "df = pd.DataFrame(myresult, columns = ['customer_id', 'cust_name', 'email', 'total_amount'])\n",
    "df"
   ]
  },
  {
   "cell_type": "markdown",
   "metadata": {},
   "source": [
    "## NO 6"
   ]
  },
  {
   "cell_type": "code",
   "execution_count": 62,
   "metadata": {},
   "outputs": [
    {
     "data": {
      "text/html": [
       "<div>\n",
       "<style scoped>\n",
       "    .dataframe tbody tr th:only-of-type {\n",
       "        vertical-align: middle;\n",
       "    }\n",
       "\n",
       "    .dataframe tbody tr th {\n",
       "        vertical-align: top;\n",
       "    }\n",
       "\n",
       "    .dataframe thead th {\n",
       "        text-align: right;\n",
       "    }\n",
       "</style>\n",
       "<table border=\"1\" class=\"dataframe\">\n",
       "  <thead>\n",
       "    <tr style=\"text-align: right;\">\n",
       "      <th></th>\n",
       "      <th>store_id</th>\n",
       "      <th>NumberofCopies</th>\n",
       "    </tr>\n",
       "  </thead>\n",
       "  <tbody>\n",
       "    <tr>\n",
       "      <th>0</th>\n",
       "      <td>1</td>\n",
       "      <td>2270</td>\n",
       "    </tr>\n",
       "    <tr>\n",
       "      <th>1</th>\n",
       "      <td>2</td>\n",
       "      <td>2311</td>\n",
       "    </tr>\n",
       "  </tbody>\n",
       "</table>\n",
       "</div>"
      ],
      "text/plain": [
       "   store_id  NumberofCopies\n",
       "0         1            2270\n",
       "1         2            2311"
      ]
     },
     "execution_count": 62,
     "metadata": {},
     "output_type": "execute_result"
    }
   ],
   "source": [
    "cur.execute('''\n",
    "            SELECT store_id, COUNT(film_id) as NumberofCopies\n",
    "            FROM inventory\n",
    "            GROUP BY store_id;\n",
    "            ''')\n",
    "myresult = cur.fetchall()\n",
    "\n",
    "#Put myresult into a dataframe\n",
    "df = pd.DataFrame(myresult, columns = ['store_id', 'NumberofCopies'])\n",
    "df"
   ]
  },
  {
   "cell_type": "code",
   "execution_count": 61,
   "metadata": {},
   "outputs": [
    {
     "data": {
      "text/html": [
       "<div>\n",
       "<style scoped>\n",
       "    .dataframe tbody tr th:only-of-type {\n",
       "        vertical-align: middle;\n",
       "    }\n",
       "\n",
       "    .dataframe tbody tr th {\n",
       "        vertical-align: top;\n",
       "    }\n",
       "\n",
       "    .dataframe thead th {\n",
       "        text-align: right;\n",
       "    }\n",
       "</style>\n",
       "<table border=\"1\" class=\"dataframe\">\n",
       "  <thead>\n",
       "    <tr style=\"text-align: right;\">\n",
       "      <th>store_id</th>\n",
       "      <th>1</th>\n",
       "      <th>2</th>\n",
       "    </tr>\n",
       "    <tr>\n",
       "      <th>title</th>\n",
       "      <th></th>\n",
       "      <th></th>\n",
       "    </tr>\n",
       "  </thead>\n",
       "  <tbody>\n",
       "    <tr>\n",
       "      <th>Academy Dinosaur</th>\n",
       "      <td>4</td>\n",
       "      <td>4</td>\n",
       "    </tr>\n",
       "    <tr>\n",
       "      <th>Ace Goldfinger</th>\n",
       "      <td>0</td>\n",
       "      <td>3</td>\n",
       "    </tr>\n",
       "    <tr>\n",
       "      <th>Adaptation Holes</th>\n",
       "      <td>0</td>\n",
       "      <td>4</td>\n",
       "    </tr>\n",
       "    <tr>\n",
       "      <th>Affair Prejudice</th>\n",
       "      <td>4</td>\n",
       "      <td>3</td>\n",
       "    </tr>\n",
       "    <tr>\n",
       "      <th>African Egg</th>\n",
       "      <td>0</td>\n",
       "      <td>3</td>\n",
       "    </tr>\n",
       "    <tr>\n",
       "      <th>...</th>\n",
       "      <td>...</td>\n",
       "      <td>...</td>\n",
       "    </tr>\n",
       "    <tr>\n",
       "      <th>Young Language</th>\n",
       "      <td>2</td>\n",
       "      <td>0</td>\n",
       "    </tr>\n",
       "    <tr>\n",
       "      <th>Youth Kick</th>\n",
       "      <td>2</td>\n",
       "      <td>0</td>\n",
       "    </tr>\n",
       "    <tr>\n",
       "      <th>Zhivago Core</th>\n",
       "      <td>0</td>\n",
       "      <td>2</td>\n",
       "    </tr>\n",
       "    <tr>\n",
       "      <th>Zoolander Fiction</th>\n",
       "      <td>2</td>\n",
       "      <td>3</td>\n",
       "    </tr>\n",
       "    <tr>\n",
       "      <th>Zorro Ark</th>\n",
       "      <td>4</td>\n",
       "      <td>4</td>\n",
       "    </tr>\n",
       "  </tbody>\n",
       "</table>\n",
       "<p>958 rows × 2 columns</p>\n",
       "</div>"
      ],
      "text/plain": [
       "store_id           1  2\n",
       "title                  \n",
       "Academy Dinosaur   4  4\n",
       "Ace Goldfinger     0  3\n",
       "Adaptation Holes   0  4\n",
       "Affair Prejudice   4  3\n",
       "African Egg        0  3\n",
       "...               .. ..\n",
       "Young Language     2  0\n",
       "Youth Kick         2  0\n",
       "Zhivago Core       0  2\n",
       "Zoolander Fiction  2  3\n",
       "Zorro Ark          4  4\n",
       "\n",
       "[958 rows x 2 columns]"
      ]
     },
     "execution_count": 61,
     "metadata": {},
     "output_type": "execute_result"
    }
   ],
   "source": [
    "cur.execute('''\n",
    "            SELECT title, i.store_id, COUNT(i.film_id) as NumberofCopies\n",
    "            FROM inventory AS i\n",
    "            LEFT JOIN film AS f\n",
    "            ON i.film_id = f.film_id\n",
    "            GROUP BY title, store_id\n",
    "            ORDER BY store_id;\n",
    "            ''')\n",
    "myresult = cur.fetchall()\n",
    "\n",
    "#Put myresult into a dataframe\n",
    "df = pd.DataFrame(myresult, columns = ['title', 'store_id', 'NumberofCopies'])\n",
    "\n",
    "#Pivoting df\n",
    "df_pivot2 = pd.pivot_table(df, values='NumberofCopies', index='title', columns='store_id')\n",
    "\n",
    "#Show sorted pivot table & fill NaN with 0\n",
    "df_pivot2.fillna(0).astype(int).sort_index()"
   ]
  },
  {
   "cell_type": "markdown",
   "metadata": {},
   "source": [
    "## No 7"
   ]
  },
  {
   "cell_type": "code",
   "execution_count": 65,
   "metadata": {},
   "outputs": [
    {
     "data": {
      "text/html": [
       "<div>\n",
       "<style scoped>\n",
       "    .dataframe tbody tr th:only-of-type {\n",
       "        vertical-align: middle;\n",
       "    }\n",
       "\n",
       "    .dataframe tbody tr th {\n",
       "        vertical-align: top;\n",
       "    }\n",
       "\n",
       "    .dataframe thead th {\n",
       "        text-align: right;\n",
       "    }\n",
       "</style>\n",
       "<table border=\"1\" class=\"dataframe\">\n",
       "  <thead>\n",
       "    <tr style=\"text-align: right;\">\n",
       "      <th></th>\n",
       "      <th>cust_id</th>\n",
       "      <th>cust_name</th>\n",
       "      <th>email</th>\n",
       "      <th>total_transaction</th>\n",
       "    </tr>\n",
       "  </thead>\n",
       "  <tbody>\n",
       "    <tr>\n",
       "      <th>0</th>\n",
       "      <td>148</td>\n",
       "      <td>Eleanor Hunt</td>\n",
       "      <td>eleanor.hunt@sakilacustomer.org</td>\n",
       "      <td>45</td>\n",
       "    </tr>\n",
       "    <tr>\n",
       "      <th>1</th>\n",
       "      <td>526</td>\n",
       "      <td>Karl Seal</td>\n",
       "      <td>karl.seal@sakilacustomer.org</td>\n",
       "      <td>42</td>\n",
       "    </tr>\n",
       "    <tr>\n",
       "      <th>2</th>\n",
       "      <td>144</td>\n",
       "      <td>Clara Shaw</td>\n",
       "      <td>clara.shaw@sakilacustomer.org</td>\n",
       "      <td>40</td>\n",
       "    </tr>\n",
       "  </tbody>\n",
       "</table>\n",
       "</div>"
      ],
      "text/plain": [
       "   cust_id     cust_name                            email  total_transaction\n",
       "0      148  Eleanor Hunt  eleanor.hunt@sakilacustomer.org                 45\n",
       "1      526     Karl Seal     karl.seal@sakilacustomer.org                 42\n",
       "2      144    Clara Shaw    clara.shaw@sakilacustomer.org                 40"
      ]
     },
     "execution_count": 65,
     "metadata": {},
     "output_type": "execute_result"
    }
   ],
   "source": [
    "cur.execute('''\n",
    "            SELECT c.customer_id as id, CONCAT(first_name, ' ', last_name) AS cust_name, email, \n",
    "            COUNT(p.customer_id) AS total_transaction\n",
    "            FROM customer as c\n",
    "            LEFT JOIN payment as p\n",
    "            ON c.customer_id = p.customer_id\n",
    "            GROUP BY id, cust_name, email\n",
    "            HAVING COUNT(p.customer_id) >= 40\n",
    "            ORDER BY total_transaction DESC;\n",
    "            ''')\n",
    "myresult = cur.fetchall()\n",
    "\n",
    "#Put myresult into a dataframe\n",
    "df = pd.DataFrame(myresult, columns = ['cust_id', 'cust_name', 'email', 'total_transaction'])\n",
    "df"
   ]
  },
  {
   "cell_type": "markdown",
   "metadata": {},
   "source": [
    "# PYTHON"
   ]
  },
  {
   "cell_type": "code",
   "execution_count": 1,
   "metadata": {},
   "outputs": [],
   "source": [
    "def user_input1():\n",
    "    input_name = str(input('Input Name: '))\n",
    "    input_address = str(input('Input Address: '))\n",
    "    input_dob = str(input('Input D.O.B : '))\n",
    "    \n",
    "    print(f\"My name is {input_name}, i live in {input_address}, I was born in {input_dob}\")\n",
    "    "
   ]
  },
  {
   "cell_type": "code",
   "execution_count": 2,
   "metadata": {},
   "outputs": [
    {
     "name": "stdout",
     "output_type": "stream",
     "text": [
      "Input Name: Obryan Ramadhan\n",
      "Input Address: Surabaya\n",
      "Input D.O.B : January 25\n",
      "My name is Obryan Ramadhan, i live in Surabaya, I was born in January 25\n"
     ]
    }
   ],
   "source": [
    "user_input1()"
   ]
  },
  {
   "cell_type": "code",
   "execution_count": 5,
   "metadata": {},
   "outputs": [],
   "source": [
    "import re\n",
    "\n",
    "def user_input2():\n",
    "    '''\n",
    "    > user input that contains:\n",
    "      1. Input_name: User name\n",
    "      2. Input_address: user address\n",
    "      3. Input_dob: user day of birth\n",
    "    \n",
    "    > character limitator: Regex to limit input_name & input address character\n",
    "    > dob_limitator: Regex to limit input_dob\n",
    "    \n",
    "    Raises:\n",
    "    ValueError\n",
    "    1. if there's a non-character in Input_name\n",
    "    2. if there's a non-character in Input_adress\n",
    "    3. In Input dob if user doesn't input birthday format correctly (MMMM D, YYYY or MMMM D, YY)\n",
    "    \n",
    "    Returns:\n",
    "    printed out Input_name, input_address, and input_dob in one sentence\n",
    "    '''\n",
    "    \n",
    "    # Limiting user input using RegEx\n",
    "    character_limitator = re.compile(\"[a-zA-Z]+$\") #Only contain character\n",
    "    dob_limitator = re.compile(\"[a-zA-Z]+\\s\\d{0,2}\\,\\s(\\d{2}|\\d{4})+\") #Birthday format MMMM D, YYYY or MMMM D, YY\n",
    "\n",
    "    # User input\n",
    "    while True:\n",
    "        try:\n",
    "            #Input Name\n",
    "            input_name = str(input('Input name: '))\n",
    "            if not re.findall(character_limitator, input_name):\n",
    "                raise ValueError\n",
    "                \n",
    "            else:\n",
    "                while True:\n",
    "                    try:\n",
    "                        #Input Address\n",
    "                        input_address = str(input('Input address: '))\n",
    "                        if not re.findall(character_limitator, input_address): \n",
    "                            raise ValueError #If user doesn't input address correctly it will raise error\n",
    "                        \n",
    "                        else:\n",
    "                            while True:\n",
    "                                try:\n",
    "                                    input_dob = str(input('Input D.O.B: '))\n",
    "                                    if not re.findall(dob_limitator, input_dob): \n",
    "                                        raise ValueError #If user doesn't input dob correctly it will raise error\n",
    "                        \n",
    "                                    else:\n",
    "                                        print(f'\\nMy name is {input_name},',\n",
    "                                        f'I live in {input_address},',\n",
    "                                        f'i was born on {input_dob}')\n",
    "                                        break\n",
    "                        \n",
    "                                except ValueError:\n",
    "                                    print(\"\\n---Please, use d.o.b format correctly!---\\n\\\n",
    "                                    ---Example: August 17, 1996---\")    \n",
    "                        break\n",
    "                                          \n",
    "                    except ValueError:\n",
    "                        print(\"\\n---Character only!---\")\n",
    "            break\n",
    "    \n",
    "        except ValueError:\n",
    "            print(\"\\n---Character only!---\")\n",
    "        \n",
    "        "
   ]
  },
  {
   "cell_type": "code",
   "execution_count": 6,
   "metadata": {},
   "outputs": [
    {
     "name": "stdout",
     "output_type": "stream",
     "text": [
      "Input name: Obryan Ramadhan\n",
      "Input address: Surabaya\n",
      "Input D.O.B: January 25, 1997\n",
      "\n",
      "My name is Obryan Ramadhan, I live in Surabaya, i was born on January 25, 1997\n"
     ]
    }
   ],
   "source": [
    "user_input2()"
   ]
  },
  {
   "cell_type": "markdown",
   "metadata": {},
   "source": [
    " "
   ]
  }
 ],
 "metadata": {
  "kernelspec": {
   "display_name": "Python 3",
   "language": "python",
   "name": "python3"
  },
  "language_info": {
   "codemirror_mode": {
    "name": "ipython",
    "version": 3
   },
   "file_extension": ".py",
   "mimetype": "text/x-python",
   "name": "python",
   "nbconvert_exporter": "python",
   "pygments_lexer": "ipython3",
   "version": "3.8.1"
  }
 },
 "nbformat": 4,
 "nbformat_minor": 4
}
